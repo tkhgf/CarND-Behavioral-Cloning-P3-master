{
 "cells": [
  {
   "cell_type": "code",
   "execution_count": null,
   "metadata": {
    "collapsed": false
   },
   "outputs": [],
   "source": []
  },
  {
   "cell_type": "code",
   "execution_count": 1,
   "metadata": {
    "collapsed": false
   },
   "outputs": [],
   "source": [
    "#ld use a generator to load data and preprocess it on the fly, in batch size portions to feed into your Behavioral Cloning model .\n",
    "\n",
    "import os\n",
    "import csv\n",
    "\n",
    "samples = []\n",
    "with open('mydata/driving_log.csv') as csvfile:\n",
    "    reader = csv.reader(csvfile)\n",
    "    for line in reader:\n",
    "        samples.append(line)\n",
    "with open('second track/driving_log.csv') as csvfile:\n",
    "    reader = csv.reader(csvfile)\n",
    "    for line in reader:\n",
    "        samples.append(line)\n",
    "\n",
    "from sklearn.model_selection import train_test_split\n",
    "train_samples, validation_samples = train_test_split(samples, test_size=0.2)\n",
    "\n",
    "import cv2\n",
    "import numpy as np\n",
    "import sklearn\n",
    "from numpy.random import shuffle\n",
    "\n",
    "def generator(samples, batch_size=32):\n",
    "    num_samples = len(samples)\n",
    "    #count = 0\n",
    "    while 1: # Loop forever so the generator never terminates\n",
    "        shuffle(samples)\n",
    "        for offset in range(0, num_samples, batch_size):\n",
    "            batch_samples = samples[offset:offset+batch_size]\n",
    "            images = []\n",
    "            angles = []\n",
    "            for batch_sample in batch_samples:\n",
    "                name = 'mydata/IMG/'+batch_sample[0].split('\\\\')[-1]\n",
    "                center_image = cv2.imread(name)\n",
    "                if center_image is None:\n",
    "                    name = 'second track/IMG/'+batch_sample[0].split('\\\\')[-1]\n",
    "                center_image = cv2.imread(name)\n",
    "                #image loading check\n",
    "                if center_image is None:\n",
    "                    print(\"Image loading failed\")\n",
    "                \n",
    "                center_angle = float(batch_sample[3])\n",
    "                images.append(center_image)\n",
    "                angles.append(center_angle)\n",
    "                images.append(cv2.flip( center_image, 1 ))    \n",
    "                angles.append(-center_angle)\n",
    "            #print(images[0])\n",
    "            # trim image to only see section with road\n",
    "            X_train = np.array(images)\n",
    "            y_train = np.array(angles)\n",
    "            #count += len(images)\n",
    "            #print(count)\n",
    "            yield sklearn.utils.shuffle(X_train, y_train)\n",
    "\n",
    "# compile and train the model using the generator function\n",
    "#train_count = 0\n",
    "#test_count = 0\n",
    "#tgen = generator(train_samples[1:], batch_size=32)\n",
    "#vgen = generator(validation_samples[1:], batch_size=32)\n",
    "#for g1, count1 in tgen:\n",
    "#    train_generator = g1\n",
    "#    train_count = count1\n",
    "#for g2, count2 in vgen:\n",
    "#    validation_generator = g2\n",
    "#    test_count = count2\n",
    "\n",
    "train_generator = generator(train_samples[1:], batch_size=32)\n",
    "validation_generator = generator(validation_samples[1:], batch_size=32)"
   ]
  },
  {
   "cell_type": "code",
   "execution_count": 2,
   "metadata": {
    "collapsed": false
   },
   "outputs": [
    {
     "name": "stderr",
     "output_type": "stream",
     "text": [
      "Using TensorFlow backend.\n"
     ]
    }
   ],
   "source": [
    "from keras.models import Sequential\n",
    "from keras.layers.core import Dense, Activation, Flatten, Dropout, Lambda\n",
    "from keras.layers.convolutional import Convolution2D\n",
    "from keras.layers.pooling import MaxPooling2D\n",
    "from keras.layers import Cropping2D\n",
    "from keras.models import Model\n",
    "from keras.regularizers import l2, activity_l2\n",
    "import matplotlib.pyplot as plt\n"
   ]
  },
  {
   "cell_type": "code",
   "execution_count": 3,
   "metadata": {
    "collapsed": false
   },
   "outputs": [
    {
     "name": "stdout",
     "output_type": "stream",
     "text": [
      "(90, 320, 3)\n"
     ]
    }
   ],
   "source": [
    "name = 'mydata/IMG/'+samples[1][0].split('\\\\')[-1]\n",
    "image = cv2.imread(name)\n",
    "crop_top = 50\n",
    "crop_bottom = 20\n",
    "shape = (image.shape[0]-(crop_top+crop_bottom), image.shape[1], image.shape[2])\n",
    "print(shape)"
   ]
  },
  {
   "cell_type": "code",
   "execution_count": 4,
   "metadata": {
    "collapsed": true
   },
   "outputs": [],
   "source": [
    "def getLenetModel():\n",
    "    model = Sequential()\n",
    "    model.add(Cropping2D(cropping=((crop_top,crop_bottom), (0,0)), input_shape=image.shape))\n",
    "    model.add(Lambda(lambda x: (x / 127.5) - 1., input_shape=shape))\n",
    "    model.add(Convolution2D(6, 5, 5,border_mode='valid', activation='elu'))\n",
    "    model.add(MaxPooling2D())\n",
    "    model.add(Convolution2D(6, 5, 5,border_mode='valid', activation='relu'))\n",
    "    model.add(MaxPooling2D())\n",
    "    model.add(Convolution2D(6, 5, 5,border_mode='valid', activation='relu'))\n",
    "    model.add(MaxPooling2D())\n",
    "    model.add(Activation('relu'))\n",
    "    model.add(Flatten())\n",
    "    model.add(Dense(256))\n",
    "    model.add(Activation('relu'))\n",
    "    model.add(Dense(64))\n",
    "    model.add(Activation('relu'))\n",
    "    model.add(Dense(1))\n",
    "    return model\n"
   ]
  },
  {
   "cell_type": "code",
   "execution_count": 5,
   "metadata": {
    "collapsed": true
   },
   "outputs": [],
   "source": [
    "def getNvidiaModel():\n",
    "    model = Sequential()\n",
    "    model.add(Cropping2D(cropping=((crop_top,crop_bottom), (0,0)), input_shape=image.shape))\n",
    "    model.add(Lambda(lambda x: (x / 127.5) - 1., input_shape=shape))\n",
    "    model.add(Convolution2D(24, 5, 5,border_mode='valid',subsample=(2,2), activation='elu', W_regularizer=l2(0.001)))\n",
    "    model.add(Dropout(0.2))\n",
    "    model.add(Convolution2D(36, 5, 5,border_mode='valid', subsample=(2,2), activation='elu', W_regularizer=l2(0.001)))\n",
    "    model.add(Dropout(0.2))\n",
    "    model.add(Convolution2D(48, 3, 3,border_mode='valid', subsample=(2,2), activation='elu', W_regularizer=l2(0.001)))\n",
    "    model.add(Dropout(0.2))\n",
    "    model.add(Convolution2D(64, 3, 3,border_mode='valid', subsample=(2,2), activation='elu', W_regularizer=l2(0.001)))\n",
    "    model.add(Dropout(0.2))\n",
    "    model.add(Flatten())\n",
    "    model.add(Dense(2048, W_regularizer=l2(0.001)))\n",
    "    model.add(Activation('elu'))\n",
    "    model.add(Dense(256, W_regularizer=l2(0.001)))\n",
    "    model.add(Activation('elu'))\n",
    "    model.add(Dense(64, W_regularizer=l2(0.001)))\n",
    "    model.add(Activation('elu'))\n",
    "    model.add(Dense(16, W_regularizer=l2(0.001)))\n",
    "    model.add(Activation('elu'))\n",
    "    model.add(Dense(1))\n",
    "    return model"
   ]
  },
  {
   "cell_type": "code",
   "execution_count": 6,
   "metadata": {
    "collapsed": true
   },
   "outputs": [],
   "source": [
    "def runModel(model, filename):    \n",
    "    history_object = model.fit_generator(train_generator, samples_per_epoch =\n",
    "        len(train_samples), validation_data = \n",
    "        validation_generator,\n",
    "        nb_val_samples = len(validation_samples), \n",
    "        nb_epoch=6, verbose=1)\n",
    "\n",
    "    # Save model data\n",
    "    model.save_weights(filename+'.h5')\n",
    "    json_string = model.to_json()\n",
    "    with open(filename +'.json', 'w') as f:\n",
    "        f.write(json_string)\n",
    "\n",
    "    ### plot the training and validation loss for each epoch\n",
    "    plt.plot(history_object.history['loss'])\n",
    "    plt.plot(history_object.history['val_loss'])\n",
    "    plt.title('model mean squared error loss')\n",
    "    plt.ylabel('mean squared error loss')\n",
    "    plt.xlabel('epoch')\n",
    "    plt.legend(['training set', 'validation set'], loc='upper right')\n",
    "    plt.show()\n",
    "\n"
   ]
  },
  {
   "cell_type": "code",
   "execution_count": 7,
   "metadata": {
    "collapsed": false
   },
   "outputs": [
    {
     "name": "stdout",
     "output_type": "stream",
     "text": [
      "Running nvidia model\n",
      "Epoch 1/20\n",
      "12160/12184 [============================>.] - ETA: 0s - loss: 2.2747"
     ]
    },
    {
     "name": "stderr",
     "output_type": "stream",
     "text": [
      "/home/carnd/anaconda3/envs/carnd-term1/lib/python3.5/site-packages/keras/engine/training.py:1569: UserWarning: Epoch comprised more than `samples_per_epoch` samples, which might affect learning results. Set `samples_per_epoch` correctly to avoid this warning.\n",
      "  warnings.warn('Epoch comprised more than '\n"
     ]
    },
    {
     "name": "stdout",
     "output_type": "stream",
     "text": [
      "12224/12184 [==============================] - 39s - loss: 2.2688 - val_loss: 1.1723\n",
      "Epoch 2/20\n",
      "12206/12184 [==============================] - 38s - loss: 0.7714 - val_loss: 0.5163\n",
      "Epoch 3/20\n",
      "12224/12184 [==============================] - 38s - loss: 0.4312 - val_loss: 0.3611\n",
      "Epoch 4/20\n",
      "12206/12184 [==============================] - 38s - loss: 0.3306 - val_loss: 0.2905\n",
      "Epoch 5/20\n",
      "12224/12184 [==============================] - 38s - loss: 0.2780 - val_loss: 0.2535\n",
      "Epoch 6/20\n",
      "12206/12184 [==============================] - 38s - loss: 0.2408 - val_loss: 0.2199\n",
      "Epoch 7/20\n",
      "12224/12184 [==============================] - 38s - loss: 0.2190 - val_loss: 0.2068\n",
      "Epoch 8/20\n",
      "12206/12184 [==============================] - 38s - loss: 0.1995 - val_loss: 0.1808\n",
      "Epoch 9/20\n",
      "12224/12184 [==============================] - 38s - loss: 0.1816 - val_loss: 0.1802\n",
      "Epoch 10/20\n",
      "12206/12184 [==============================] - 38s - loss: 0.1709 - val_loss: 0.1616\n",
      "Epoch 11/20\n",
      "12224/12184 [==============================] - 38s - loss: 0.1596 - val_loss: 0.1595\n",
      "Epoch 12/20\n",
      "12206/12184 [==============================] - 38s - loss: 0.1539 - val_loss: 0.1445\n",
      "Epoch 13/20\n",
      "12224/12184 [==============================] - 38s - loss: 0.1449 - val_loss: 0.1429\n",
      "Epoch 14/20\n",
      "12206/12184 [==============================] - 38s - loss: 0.1435 - val_loss: 0.1337\n",
      "Epoch 15/20\n",
      "12224/12184 [==============================] - 38s - loss: 0.1408 - val_loss: 0.1296\n",
      "Epoch 16/20\n",
      "12206/12184 [==============================] - 38s - loss: 0.1273 - val_loss: 0.1236\n",
      "Epoch 17/20\n",
      "12224/12184 [==============================] - 38s - loss: 0.1360 - val_loss: 0.1266\n",
      "Epoch 18/20\n",
      "12206/12184 [==============================] - 37s - loss: 0.1213 - val_loss: 0.1261\n",
      "Epoch 19/20\n",
      "12224/12184 [==============================] - 38s - loss: 0.1294 - val_loss: 0.1377\n",
      "Epoch 20/20\n",
      "12206/12184 [==============================] - 38s - loss: 0.1318 - val_loss: 0.1166\n"
     ]
    },
    {
     "data": {
      "image/png": "[encoded data removed]",
      "text/plain": [
       "<matplotlib.figure.Figure at 0x7f7c35c7e358>"
      ]
     },
     "metadata": {},
     "output_type": "display_data"
    },
    {
     "ename": "NameError",
     "evalue": "name 'train_count' is not defined",
     "output_type": "error",
     "traceback": [
      "\u001b[0;31m---------------------------------------------------------------------------\u001b[0m",
      "\u001b[0;31mNameError\u001b[0m                                 Traceback (most recent call last)",
      "\u001b[0;32m<ipython-input-7-6b88d851f046>\u001b[0m in \u001b[0;36m<module>\u001b[0;34m()\u001b[0m\n\u001b[1;32m      4\u001b[0m \u001b[0mprint\u001b[0m\u001b[0;34m(\u001b[0m\u001b[0;34m\"Running nvidia model\"\u001b[0m\u001b[0;34m)\u001b[0m\u001b[0;34m\u001b[0m\u001b[0m\n\u001b[1;32m      5\u001b[0m \u001b[0mrunModel\u001b[0m\u001b[0;34m(\u001b[0m\u001b[0mmodel\u001b[0m\u001b[0;34m,\u001b[0m \u001b[0;34m'nmodel'\u001b[0m\u001b[0;34m)\u001b[0m\u001b[0;34m\u001b[0m\u001b[0m\n\u001b[0;32m----> 6\u001b[0;31m \u001b[0mprint\u001b[0m\u001b[0;34m(\u001b[0m\u001b[0;34m\"Train images count: \"\u001b[0m \u001b[0;34m+\u001b[0m \u001b[0mtrain_count\u001b[0m\u001b[0;34m)\u001b[0m\u001b[0;34m\u001b[0m\u001b[0m\n\u001b[0m\u001b[1;32m      7\u001b[0m \u001b[0mprint\u001b[0m\u001b[0;34m(\u001b[0m\u001b[0;34m\"Test images count: \"\u001b[0m \u001b[0;34m+\u001b[0m \u001b[0mtest_count\u001b[0m\u001b[0;34m)\u001b[0m\u001b[0;34m\u001b[0m\u001b[0m\n",
      "\u001b[0;31mNameError\u001b[0m: name 'train_count' is not defined"
     ]
    }
   ],
   "source": [
    "# run nvidia model\n",
    "model = getNvidiaModel()\n",
    "model.compile(loss='mse', optimizer='adam')\n",
    "print(\"Running nvidia model\")\n",
    "runModel(model, 'nmodel')"
   ]
  },
  {
   "cell_type": "code",
   "execution_count": 8,
   "metadata": {
    "collapsed": false
   },
   "outputs": [
    {
     "name": "stdout",
     "output_type": "stream",
     "text": [
      "Running lenet model\n",
      "Epoch 1/20\n",
      "12160/12184 [============================>.] - ETA: 0s - loss: 0.1164"
     ]
    },
    {
     "name": "stderr",
     "output_type": "stream",
     "text": [
      "/home/carnd/anaconda3/envs/carnd-term1/lib/python3.5/site-packages/keras/engine/training.py:1569: UserWarning: Epoch comprised more than `samples_per_epoch` samples, which might affect learning results. Set `samples_per_epoch` correctly to avoid this warning.\n",
      "  warnings.warn('Epoch comprised more than '\n"
     ]
    },
    {
     "name": "stdout",
     "output_type": "stream",
     "text": [
      "12224/12184 [==============================] - 30s - loss: 0.1163 - val_loss: 0.0922\n",
      "Epoch 2/20\n",
      "12206/12184 [==============================] - 29s - loss: 0.0941 - val_loss: 0.0895\n",
      "Epoch 3/20\n",
      "12224/12184 [==============================] - 29s - loss: 0.0831 - val_loss: 0.0866\n",
      "Epoch 4/20\n",
      "12206/12184 [==============================] - 29s - loss: 0.0830 - val_loss: 0.0788\n",
      "Epoch 5/20\n",
      "12224/12184 [==============================] - 29s - loss: 0.0707 - val_loss: 0.0773\n",
      "Epoch 6/20\n",
      "12206/12184 [==============================] - 29s - loss: 0.0709 - val_loss: 0.0742\n",
      "Epoch 7/20\n",
      "12224/12184 [==============================] - 29s - loss: 0.0622 - val_loss: 0.0719\n",
      "Epoch 8/20\n",
      "12206/12184 [==============================] - 29s - loss: 0.0614 - val_loss: 0.0754\n",
      "Epoch 9/20\n",
      "12224/12184 [==============================] - 29s - loss: 0.0518 - val_loss: 0.0773\n",
      "Epoch 10/20\n",
      "12206/12184 [==============================] - 30s - loss: 0.0539 - val_loss: 0.0696\n",
      "Epoch 11/20\n",
      "12224/12184 [==============================] - 30s - loss: 0.0427 - val_loss: 0.0667\n",
      "Epoch 12/20\n",
      "12206/12184 [==============================] - 30s - loss: 0.0457 - val_loss: 0.0712\n",
      "Epoch 13/20\n",
      "12224/12184 [==============================] - 29s - loss: 0.0361 - val_loss: 0.0687\n",
      "Epoch 14/20\n",
      "12206/12184 [==============================] - 30s - loss: 0.0361 - val_loss: 0.0687\n",
      "Epoch 15/20\n",
      "12224/12184 [==============================] - 29s - loss: 0.0281 - val_loss: 0.0633\n",
      "Epoch 16/20\n",
      "12206/12184 [==============================] - 29s - loss: 0.0300 - val_loss: 0.0679\n",
      "Epoch 17/20\n",
      "12224/12184 [==============================] - 29s - loss: 0.0247 - val_loss: 0.0681\n",
      "Epoch 18/20\n",
      "12206/12184 [==============================] - 29s - loss: 0.0227 - val_loss: 0.0680\n",
      "Epoch 19/20\n",
      "12224/12184 [==============================] - 29s - loss: 0.0185 - val_loss: 0.0683\n",
      "Epoch 20/20\n",
      "12206/12184 [==============================] - 29s - loss: 0.0191 - val_loss: 0.0647\n"
     ]
    },
    {
     "data": {
      "image/png": "[encoded data removed]",
      "text/plain": [
       "<matplotlib.figure.Figure at 0x7f7c2c6b97f0>"
      ]
     },
     "metadata": {},
     "output_type": "display_data"
    }
   ],
   "source": [
    "# run lenet model\n",
    "model1 = getLenetModel()\n",
    "model1.compile(loss='mse', optimizer='adam')\n",
    "print(\"Running lenet model\")\n",
    "runModel(model1, 'lmodel')"
   ]
  },
  {
   "cell_type": "code",
   "execution_count": null,
   "metadata": {
    "collapsed": true
   },
   "outputs": [],
   "source": []
  },
  {
   "cell_type": "code",
   "execution_count": null,
   "metadata": {
    "collapsed": true
   },
   "outputs": [],
   "source": []
  },
  {
   "cell_type": "code",
   "execution_count": null,
   "metadata": {
    "collapsed": true
   },
   "outputs": [],
   "source": []
  },
  {
   "cell_type": "code",
   "execution_count": null,
   "metadata": {
    "collapsed": true
   },
   "outputs": [],
   "source": []
  }
 ],
 "metadata": {
  "anaconda-cloud": {},
  "kernelspec": {
   "display_name": "Python [conda env:carnd-term1]",
   "language": "python",
   "name": "conda-env-carnd-term1-py"
  },
  "language_info": {
   "codemirror_mode": {
    "name": "ipython",
    "version": 3
   },
   "file_extension": ".py",
   "mimetype": "text/x-python",
   "name": "python",
   "nbconvert_exporter": "python",
   "pygments_lexer": "ipython3",
   "version": "3.5.2"
  }
 },
 "nbformat": 4,
 "nbformat_minor": 2
}
