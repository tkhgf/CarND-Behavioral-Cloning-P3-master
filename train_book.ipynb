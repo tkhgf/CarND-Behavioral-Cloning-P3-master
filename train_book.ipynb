{
 "cells": [
  {
   "cell_type": "code",
   "execution_count": null,
   "metadata": {
    "collapsed": false
   },
   "outputs": [],
   "source": []
  },
  {
   "cell_type": "code",
   "execution_count": 1,
   "metadata": {
    "collapsed": false
   },
   "outputs": [],
   "source": [
    "#ld use a generator to load data and preprocess it on the fly, in batch size portions to feed into your Behavioral Cloning model .\n",
    "\n",
    "import os\n",
    "import csv\n",
    "\n",
    "samples = []\n",
    "with open('data/driving_log.csv') as csvfile:\n",
    "    reader = csv.reader(csvfile)\n",
    "    for line in reader:\n",
    "        samples.append(line)\n",
    "with open('second track2/driving_log.csv') as csvfile:\n",
    "    reader = csv.reader(csvfile)\n",
    "    for line in reader:\n",
    "        samples.append(line)\n",
    "\n",
    "from sklearn.model_selection import train_test_split\n",
    "train_samples, validation_samples = train_test_split(samples, test_size=0.2)\n",
    "\n",
    "import cv2\n",
    "import numpy as np\n",
    "import sklearn\n",
    "from numpy.random import shuffle\n",
    "\n",
    "def generator(samples, batch_size=32):\n",
    "    num_samples = len(samples)\n",
    "    #count = 0\n",
    "    while 1: # Loop forever so the generator never terminates\n",
    "        shuffle(samples)\n",
    "        for offset in range(0, num_samples, batch_size):\n",
    "            batch_samples = samples[offset:offset+batch_size]\n",
    "            images = []\n",
    "            angles = []\n",
    "            params = []\n",
    "            for batch_sample in batch_samples:\n",
    "                name = 'data/IMG/'+batch_sample[0].split('/')[-1]\n",
    "                center_image = cv2.imread(name)\n",
    "                if center_image is None:\n",
    "                    name = 'second track2/IMG/'+batch_sample[0].split('\\\\')[-1]\n",
    "                center_image = cv2.imread(name)\n",
    "                #image loading check\n",
    "                if center_image is None:\n",
    "                    print(\"Image loading failed\")\n",
    "                else:\n",
    "                    center_angle = float(batch_sample[3])\n",
    "                    images.append(center_image)\n",
    "                    angles.append(center_angle)\n",
    "                    throttle = float(batch_sample[4])    \n",
    "                    brake = float(batch_sample[4])\n",
    "                    speed = float(batch_sample[4])\n",
    "                    params.append((center_angle, throttle, brake, speed))\n",
    "                    images.append(cv2.flip( center_image, 1 ))    \n",
    "                    angles.append(-center_angle)                    \n",
    "                    params.append((-center_angle, throttle, brake, speed))\n",
    "            #print(images[0])\n",
    "            # trim image to only see section with road\n",
    "            X_train = np.array(images)\n",
    "            y_train = np.array(params)\n",
    "            #count += len(images)\n",
    "            #print(count)\n",
    "            yield sklearn.utils.shuffle(X_train, y_train)\n",
    "\n",
    "# compile and train the model using the generator function\n",
    "#train_count = 0\n",
    "#test_count = 0\n",
    "#tgen = generator(train_samples[1:], batch_size=32)\n",
    "#vgen = generator(validation_samples[1:], batch_size=32)\n",
    "#for g1, count1 in tgen:\n",
    "#    train_generator = g1\n",
    "#    train_count = count1\n",
    "#for g2, count2 in vgen:\n",
    "#    validation_generator = g2\n",
    "#    test_count = count2\n",
    "\n",
    "train_generator = generator(train_samples[1:], batch_size=32)\n",
    "validation_generator = generator(validation_samples[1:], batch_size=32)"
   ]
  },
  {
   "cell_type": "code",
   "execution_count": 2,
   "metadata": {
    "collapsed": false
   },
   "outputs": [
    {
     "name": "stderr",
     "output_type": "stream",
     "text": [
      "Using TensorFlow backend.\n"
     ]
    }
   ],
   "source": [
    "from keras.models import Sequential\n",
    "from keras.layers.core import Dense, Activation, Flatten, Dropout, Lambda\n",
    "from keras.layers.convolutional import Convolution2D\n",
    "from keras.layers.pooling import MaxPooling2D\n",
    "from keras.layers import Cropping2D\n",
    "from keras.models import Model\n",
    "from keras.regularizers import l2, activity_l2\n",
    "import matplotlib.pyplot as plt\n"
   ]
  },
  {
   "cell_type": "code",
   "execution_count": 3,
   "metadata": {
    "collapsed": false
   },
   "outputs": [
    {
     "name": "stdout",
     "output_type": "stream",
     "text": [
      "(90, 320, 3)\n"
     ]
    }
   ],
   "source": [
    "name = 'data/IMG/'+samples[1][0].split('/')[-1]\n",
    "image = cv2.imread(name)\n",
    "crop_top = 50\n",
    "crop_bottom = 20\n",
    "shape = (image.shape[0]-(crop_top+crop_bottom), image.shape[1], image.shape[2])\n",
    "print(shape)"
   ]
  },
  {
   "cell_type": "code",
   "execution_count": 4,
   "metadata": {
    "collapsed": true
   },
   "outputs": [],
   "source": [
    "def getLenetModel():\n",
    "    model = Sequential()\n",
    "    model.add(Cropping2D(cropping=((crop_top,crop_bottom), (0,0)), input_shape=image.shape))\n",
    "    model.add(Lambda(lambda x: (x / 127.5) - 1., input_shape=shape))\n",
    "    model.add(Convolution2D(6, 5, 5,border_mode='valid', activation='elu'))\n",
    "    model.add(MaxPooling2D())\n",
    "    model.add(Convolution2D(6, 5, 5,border_mode='valid', activation='relu'))\n",
    "    model.add(MaxPooling2D())\n",
    "    model.add(Convolution2D(6, 5, 5,border_mode='valid', activation='relu'))\n",
    "    model.add(MaxPooling2D())\n",
    "    model.add(Activation('relu'))\n",
    "    model.add(Flatten())\n",
    "    model.add(Dense(2048))\n",
    "    model.add(Activation('relu'))\n",
    "    model.add(Dense(64))\n",
    "    model.add(Activation('relu'))\n",
    "    model.add(Dense(4))\n",
    "    return model\n"
   ]
  },
  {
   "cell_type": "code",
   "execution_count": 5,
   "metadata": {
    "collapsed": true
   },
   "outputs": [],
   "source": [
    "def getNvidiaModel():\n",
    "    model = Sequential()\n",
    "    model.add(Cropping2D(cropping=((crop_top,crop_bottom), (0,0)), input_shape=image.shape))\n",
    "    model.add(Lambda(lambda x: (x / 127.5) - 1., input_shape=shape))\n",
    "    model.add(Convolution2D(24, 5, 5,border_mode='valid',subsample=(2,2), activation='elu', W_regularizer=l2(0.001)))\n",
    "    model.add(Dropout(0.2))\n",
    "    model.add(Convolution2D(36, 5, 5,border_mode='valid', subsample=(2,2), activation='elu', W_regularizer=l2(0.001)))\n",
    "    model.add(Dropout(0.2))\n",
    "    model.add(Convolution2D(48, 3, 3,border_mode='valid', subsample=(2,2), activation='elu', W_regularizer=l2(0.001)))\n",
    "    model.add(Dropout(0.2))\n",
    "    model.add(Convolution2D(64, 3, 3,border_mode='valid', subsample=(2,2), activation='elu', W_regularizer=l2(0.001)))\n",
    "    model.add(Dropout(0.2))\n",
    "    model.add(Flatten())\n",
    "    model.add(Dense(2048, W_regularizer=l2(0.001)))\n",
    "    model.add(Activation('elu'))\n",
    "    model.add(Dense(256, W_regularizer=l2(0.001)))\n",
    "    model.add(Activation('elu'))\n",
    "    model.add(Dense(64, W_regularizer=l2(0.001)))\n",
    "    model.add(Activation('elu'))\n",
    "    model.add(Dense(16, W_regularizer=l2(0.001)))\n",
    "    model.add(Activation('elu'))\n",
    "    model.add(Dense(4))\n",
    "    return model"
   ]
  },
  {
   "cell_type": "code",
   "execution_count": 6,
   "metadata": {
    "collapsed": true
   },
   "outputs": [],
   "source": [
    "def runModel(model, filename):    \n",
    "    history_object = model.fit_generator(train_generator, samples_per_epoch =\n",
    "        len(train_samples), validation_data = \n",
    "        validation_generator,\n",
    "        nb_val_samples = len(validation_samples), \n",
    "        nb_epoch=15, verbose=1)\n",
    "\n",
    "    # Save model data\n",
    "    model.save_weights(filename+'.h5')\n",
    "    json_string = model.to_json()\n",
    "    with open(filename +'.json', 'w') as f:\n",
    "        f.write(json_string)\n",
    "\n",
    "    ### plot the training and validation loss for each epoch\n",
    "    plt.plot(history_object.history['loss'])\n",
    "    plt.plot(history_object.history['val_loss'])\n",
    "    plt.title('model mean squared error loss')\n",
    "    plt.ylabel('mean squared error loss')\n",
    "    plt.xlabel('epoch')\n",
    "    plt.legend(['training set', 'validation set'], loc='upper right')\n",
    "    plt.show()\n",
    "\n"
   ]
  },
  {
   "cell_type": "code",
   "execution_count": null,
   "metadata": {
    "collapsed": false
   },
   "outputs": [
    {
     "name": "stdout",
     "output_type": "stream",
     "text": [
      "Running nvidia model\n",
      "Epoch 1/15\n",
      "13568/13580 [============================>.] - ETA: 0s - loss: 1.9203"
     ]
    },
    {
     "name": "stderr",
     "output_type": "stream",
     "text": [
      "/home/carnd/anaconda3/envs/carnd-term1/lib/python3.5/site-packages/keras/engine/training.py:1569: UserWarning: Epoch comprised more than `samples_per_epoch` samples, which might affect learning results. Set `samples_per_epoch` correctly to avoid this warning.\n",
      "  warnings.warn('Epoch comprised more than '\n"
     ]
    },
    {
     "name": "stdout",
     "output_type": "stream",
     "text": [
      "13632/13580 [==============================] - 41s - loss: 1.9150 - val_loss: 0.7348\n",
      "Epoch 2/15\n",
      "13526/13580 [============================>.] - ETA: 0s - loss: 0.5028Image loading failed\n",
      "13590/13580 [==============================] - 40s - loss: 0.5024 - val_loss: 0.3743\n",
      "Epoch 3/15\n",
      "13568/13580 [============================>.] - ETA: 0s - loss: 0.3081Image loading failed\n",
      "13632/13580 [==============================] - 40s - loss: 0.3077 - val_loss: 0.2655\n",
      "Epoch 4/15\n",
      "13590/13580 [==============================] - 40s - loss: 0.2377 - val_loss: 0.2254\n",
      "Epoch 5/15\n",
      "13568/13580 [============================>.] - ETA: 0s - loss: 0.2039Image loading failed\n",
      "13632/13580 [==============================] - 40s - loss: 0.2037 - val_loss: 0.1873\n",
      "Epoch 6/15\n",
      "13526/13580 [============================>.] - ETA: 0s - loss: 0.1764Image loading failed\n",
      "13590/13580 [==============================] - 40s - loss: 0.1764 - val_loss: 0.1702\n",
      "Epoch 7/15\n",
      "13632/13580 [==============================] - 40s - loss: 0.1582 - val_loss: 0.1519\n",
      "Epoch 8/15\n",
      "13590/13580 [==============================] - 40s - loss: 0.1469 - val_loss: 0.1384\n",
      "Epoch 9/15\n",
      "13568/13580 [============================>.] - ETA: 0s - loss: 0.1355Image loading failed\n",
      "13632/13580 [==============================] - 40s - loss: 0.1354 - val_loss: 0.1389\n",
      "Epoch 10/15\n",
      "13526/13580 [============================>.] - ETA: 0s - loss: 0.1301Image loading failed\n",
      "13590/13580 [==============================] - 40s - loss: 0.1301 - val_loss: 0.1329\n",
      "Epoch 11/15\n",
      "13632/13580 [==============================] - 40s - loss: 0.1249 - val_loss: 0.1222\n",
      "Epoch 12/15\n",
      "13590/13580 [==============================] - 40s - loss: 0.1181 - val_loss: 0.1191\n",
      "Epoch 13/15\n",
      "13568/13580 [============================>.] - ETA: 0s - loss: 0.1184Image loading failed\n",
      "13632/13580 [==============================] - 40s - loss: 0.1185 - val_loss: 0.1230\n",
      "Epoch 14/15\n",
      "13526/13580 [============================>.] - ETA: 0s - loss: 0.1127Image loading failed\n",
      "13590/13580 [==============================] - 40s - loss: 0.1128 - val_loss: 0.1168\n",
      "Epoch 15/15\n",
      "13632/13580 [==============================] - 40s - loss: 0.1125 - val_loss: 0.1151\n"
     ]
    },
    {
     "data": {
      "image/png": "[encoded data removed]",
      "text/plain": [
       "<matplotlib.figure.Figure at 0x7fbfde7bef98>"
      ]
     },
     "metadata": {},
     "output_type": "display_data"
    }
   ],
   "source": [
    "# run nvidia model\n",
    "model = getNvidiaModel()\n",
    "model.compile(loss='mse', optimizer='adam')\n",
    "print(\"Running nvidia model\")\n",
    "runModel(model, 'nmodel')"
   ]
  },
  {
   "cell_type": "code",
   "execution_count": null,
   "metadata": {
    "collapsed": false
   },
   "outputs": [
    {
     "name": "stdout",
     "output_type": "stream",
     "text": [
      "Running lenet model\n",
      "Epoch 1/15\n",
      "11840/13580 [=========================>....] - ETA: 3s - loss: 0.1005"
     ]
    }
   ],
   "source": [
    "# run lenet model\n",
    "#model1 = getLenetModel()\n",
    "#model1.compile(loss='mse', optimizer='adam')\n",
    "#print(\"Running lenet model\")\n",
    "#runModel(model1, 'lmodel')"
   ]
  },
  {
   "cell_type": "code",
   "execution_count": null,
   "metadata": {
    "collapsed": true
   },
   "outputs": [],
   "source": []
  },
  {
   "cell_type": "code",
   "execution_count": null,
   "metadata": {
    "collapsed": true
   },
   "outputs": [],
   "source": []
  },
  {
   "cell_type": "code",
   "execution_count": null,
   "metadata": {
    "collapsed": true
   },
   "outputs": [],
   "source": []
  },
  {
   "cell_type": "code",
   "execution_count": null,
   "metadata": {
    "collapsed": true
   },
   "outputs": [],
   "source": []
  }
 ],
 "metadata": {
  "anaconda-cloud": {},
  "kernelspec": {
   "display_name": "Python [conda env:carnd-term1]",
   "language": "python",
   "name": "conda-env-carnd-term1-py"
  },
  "language_info": {
   "codemirror_mode": {
    "name": "ipython",
    "version": 3
   },
   "file_extension": ".py",
   "mimetype": "text/x-python",
   "name": "python",
   "nbconvert_exporter": "python",
   "pygments_lexer": "ipython3",
   "version": "3.5.2"
  }
 },
 "nbformat": 4,
 "nbformat_minor": 2
}
